{
 "cells": [
  {
   "cell_type": "code",
   "execution_count": null,
   "metadata": {},
   "outputs": [],
   "source": [
    "import numpy as np\n",
    "import matplotlib.pyplot as plt\n",
    "from scipy.stats import norm, wasserstein_distance"
   ]
  },
  {
   "cell_type": "code",
   "execution_count": null,
   "metadata": {},
   "outputs": [],
   "source": [
    "x_values = np.linspace(-22, 21, 44)\n",
    "y_values = norm.pdf(x_values, 0, 8.8)\n",
    "y_values_percentage = np.round(y_values * 100, 2)\n",
    "print(y_values_percentage)\n",
    "suma_y_values = np.sum(y_values_percentage)\n",
    "print(f\"Suma: {suma_y_values}\")"
   ]
  },
  {
   "cell_type": "code",
   "execution_count": null,
   "metadata": {},
   "outputs": [],
   "source": [
    "individuo = norm.pdf(x_values, 0, 8.8)\n",
    "print(individuo)\n",
    "suma_individuo = np.sum(individuo)\n",
    "print(f\"Suma: {suma_individuo}\")\n",
    "w_distance = wasserstein_distance(individuo, y_values)\n",
    "\n",
    "print(f\"Wasserstein distance: {w_distance}\")"
   ]
  },
  {
   "cell_type": "code",
   "execution_count": null,
   "metadata": {},
   "outputs": [],
   "source": [
    "# Graficar la campana de Gauss\n",
    "plt.plot(x_values, y_values, label='Campana de Gauss')\n",
    "plt.plot(x_values, individuo, label='Individuo')\n",
    "plt.title('Distribución Normal (Campana de Gauss)')\n",
    "plt.xlabel('X')\n",
    "plt.ylabel('Densidad de Probabilidad')\n",
    "plt.legend()\n",
    "plt.show()"
   ]
  }
 ],
 "metadata": {
  "kernelspec": {
   "display_name": "AGsEnv",
   "language": "python",
   "name": "python3"
  },
  "language_info": {
   "codemirror_mode": {
    "name": "ipython",
    "version": 3
   },
   "file_extension": ".py",
   "mimetype": "text/x-python",
   "name": "python",
   "nbconvert_exporter": "python",
   "pygments_lexer": "ipython3",
   "version": "3.9.6"
  }
 },
 "nbformat": 4,
 "nbformat_minor": 2
}
